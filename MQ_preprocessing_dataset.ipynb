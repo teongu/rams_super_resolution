{
 "cells": [
  {
   "cell_type": "markdown",
   "metadata": {},
   "source": [
    "# Preprocessing the Proba-V Dataset\n",
    "![proba_v_dataset](media/proba_v_dataset.jpg \"Logo Title Text 1\")\n",
    "\n",
    "The following notebook provides a very flexible pipeline for processing the Proba-V Dataset. We have already split the original dataset in train validation and test. The test set is the original one of the ESA Proba-V challenge without ground-truths. The validation set is composed of all the scenes we used to evaluate our network and all significant solutions presented in literature at the time of writing.\n",
    "\n",
    "**NB**: with the setting \"train_full=True\" our validation split will be ignored, and you will have a pre-processed dataset with all scenes available in the dataset. It is useful if you want to compete in the [PROBA-V Super Resolution post mortem Challenge](https://kelvins.esa.int/proba-v-super-resolution-post-mortem/home/)\n",
    "\n",
    "**The notebook is divided in**:\n",
    "- 1.0 [Dataset Loading](#section_ID)\n",
    "- 2.0 [Dataset pre-processing](#preprocessing)\n",
    "    - 2.1 Register dataset\n",
    "    - 2.2 Select the best T LR images\n",
    "    - 2.3 Pre-augment dataset (temporal permutation)\n",
    "- 3.0 [Visualize the Pre-Processed Datataset](#visualize)\n",
    "- 4.0 [Save dataset](#save)"
   ]
  },
  {
   "cell_type": "code",
   "execution_count": 23,
   "metadata": {
    "ExecuteTime": {
     "end_time": "2020-10-01T16:12:41.821468Z",
     "start_time": "2020-10-01T16:12:41.635000Z"
    }
   },
   "outputs": [],
   "source": [
    "%matplotlib inline\n",
    "%reload_ext autoreload\n",
    "%autoreload 2"
   ]
  },
  {
   "cell_type": "code",
   "execution_count": 32,
   "metadata": {
    "ExecuteTime": {
     "end_time": "2020-10-01T16:12:41.994463Z",
     "start_time": "2020-10-01T16:12:41.822701Z"
    }
   },
   "outputs": [],
   "source": [
    "# import utils and basic libraries\n",
    "from utils.preprocessing import load_dataset,select_T_images,register_dataset,augment_dataset\n",
    "import numpy as np\n",
    "import os\n",
    "import matplotlib.pyplot as plt"
   ]
  },
  {
   "cell_type": "code",
   "execution_count": 3,
   "metadata": {
    "ExecuteTime": {
     "end_time": "2020-10-01T16:12:42.003213Z",
     "start_time": "2020-10-01T16:12:41.995586Z"
    }
   },
   "outputs": [],
   "source": [
    "#-------------\n",
    "# Settings\n",
    "#-------------\n",
    "T = 25                               # number of temporal dimension\n",
    "n_augment = 7                        # number of temporal permutations to augment the dataset\n",
    "dataset_dir = 'mq'                   # input dir (train val and test splitted)\n",
    "dataset_output_dir = 'dataset_mq_5'  # output dir\n",
    "threshold_clean = 0.85               # percentage of clear pixel\n",
    "train_full = False                   # train without a validation"
   ]
  },
  {
   "cell_type": "markdown",
   "metadata": {},
   "source": [
    "<a id=\"loading\"></a>\n",
    "# 1.0 Dataset Loading"
   ]
  },
  {
   "cell_type": "code",
   "execution_count": 48,
   "metadata": {
    "ExecuteTime": {
     "end_time": "2020-10-01T16:12:49.002476Z",
     "start_time": "2020-10-01T16:12:42.004060Z"
    }
   },
   "outputs": [
    {
     "data": {
      "application/vnd.jupyter.widget-view+json": {
       "model_id": "0a6efdfe41b44aa5aaa8c4e51d07bdb2",
       "version_major": 2,
       "version_minor": 0
      },
      "text/plain": [
       "  0%|          | 0/14 [00:00<?, ?it/s]"
      ]
     },
     "metadata": {},
     "output_type": "display_data"
    },
    {
     "data": {
      "application/vnd.jupyter.widget-view+json": {
       "model_id": "aa393d3ff6144e0c90411da06d6d323e",
       "version_major": 2,
       "version_minor": 0
      },
      "text/plain": [
       "  0%|          | 0/14 [00:00<?, ?it/s]"
      ]
     },
     "metadata": {},
     "output_type": "display_data"
    },
    {
     "data": {
      "application/vnd.jupyter.widget-view+json": {
       "model_id": "44b3b75064474deaa5724a886faee029",
       "version_major": 2,
       "version_minor": 0
      },
      "text/plain": [
       "  0%|          | 0/14 [00:00<?, ?it/s]"
      ]
     },
     "metadata": {},
     "output_type": "display_data"
    },
    {
     "name": "stdout",
     "output_type": "stream",
     "text": [
      "Train RED scenes: 14 | Train RED y shape: (14, 640, 640, 1)\n",
      "Train GREEN scenes: 14 | Train GREEN y shape: (14, 640, 640, 1)\n",
      "Train BLUE scenes: 14 | Train BLUE y shape: (14, 640, 640, 1)\n"
     ]
    }
   ],
   "source": [
    "# train loading\n",
    "X_RED_train, X_RED_train_masks, y_RED_train, y_RED_train_masks = load_dataset(base_dir=dataset_dir, \n",
    "                                                                              part=\"train\", band=\"RED\")\n",
    "\n",
    "X_GREEN_train, X_GREEN_train_masks, y_GREEN_train, y_GREEN_train_masks = load_dataset(base_dir=dataset_dir, \n",
    "                                                                              part=\"train\", band=\"GREEN\")\n",
    "\n",
    "X_BLUE_train, X_BLUE_train_masks, y_BLUE_train, y_BLUE_train_masks = load_dataset(base_dir=dataset_dir, \n",
    "                                                                              part=\"train\", band=\"BLUE\")\n",
    "\n",
    "print(f\"Train RED scenes: {len(X_RED_train)} | Train RED y shape: {y_RED_train.shape}\")\n",
    "print(f\"Train GREEN scenes: {len(X_GREEN_train)} | Train GREEN y shape: {y_GREEN_train.shape}\")\n",
    "print(f\"Train BLUE scenes: {len(X_BLUE_train)} | Train BLUE y shape: {y_BLUE_train.shape}\")"
   ]
  },
  {
   "cell_type": "code",
   "execution_count": 50,
   "metadata": {},
   "outputs": [
    {
     "data": {
      "application/vnd.jupyter.widget-view+json": {
       "model_id": "bd3e7ca149c54413ba6c6c6410a28649",
       "version_major": 2,
       "version_minor": 0
      },
      "text/plain": [
       "  0%|          | 0/1 [00:00<?, ?it/s]"
      ]
     },
     "metadata": {},
     "output_type": "display_data"
    },
    {
     "data": {
      "application/vnd.jupyter.widget-view+json": {
       "model_id": "2904c332640444d196a4ae2406fef326",
       "version_major": 2,
       "version_minor": 0
      },
      "text/plain": [
       "  0%|          | 0/1 [00:00<?, ?it/s]"
      ]
     },
     "metadata": {},
     "output_type": "display_data"
    },
    {
     "data": {
      "application/vnd.jupyter.widget-view+json": {
       "model_id": "4dc7400608134100a2556775dcc4da50",
       "version_major": 2,
       "version_minor": 0
      },
      "text/plain": [
       "  0%|          | 0/1 [00:00<?, ?it/s]"
      ]
     },
     "metadata": {},
     "output_type": "display_data"
    },
    {
     "name": "stdout",
     "output_type": "stream",
     "text": [
      "Val RED scenes: 1 | Val RED y shape: (1, 640, 640, 1)\n",
      "Val GREEN scenes: 1 | Val GREEN y shape: (1, 640, 640, 1)\n",
      "Val BLUE scenes: 1 | Val BLUE y shape: (1, 640, 640, 1)\n"
     ]
    }
   ],
   "source": [
    "# validation loading\n",
    "X_RED_val, X_RED_val_masks, y_RED_val, y_RED_val_masks = load_dataset(base_dir=dataset_dir,\n",
    "                                                                      part=\"val\", band=\"RED\")\n",
    "X_GREEN_val, X_GREEN_val_masks, y_GREEN_val, y_GREEN_val_masks = load_dataset(base_dir=dataset_dir,\n",
    "                                                                      part=\"val\", band=\"GREEN\")\n",
    "X_BLUE_val, X_BLUE_val_masks, y_BLUE_val, y_BLUE_val_masks = load_dataset(base_dir=dataset_dir,\n",
    "                                                                      part=\"val\", band=\"BLUE\")\n",
    "\n",
    "print(f\"Val RED scenes: {len(X_RED_val)} | Val RED y shape: {y_RED_val.shape}\")\n",
    "print(f\"Val GREEN scenes: {len(X_GREEN_val)} | Val GREEN y shape: {y_GREEN_val.shape}\")\n",
    "print(f\"Val BLUE scenes: {len(X_BLUE_val)} | Val BLUE y shape: {y_BLUE_val.shape}\")"
   ]
  },
  {
   "cell_type": "code",
   "execution_count": 51,
   "metadata": {
    "ExecuteTime": {
     "end_time": "2020-10-01T16:12:53.861099Z",
     "start_time": "2020-10-01T16:12:51.961150Z"
    }
   },
   "outputs": [
    {
     "data": {
      "application/vnd.jupyter.widget-view+json": {
       "model_id": "184dd77a4c0644f99166a990bcde9a1e",
       "version_major": 2,
       "version_minor": 0
      },
      "text/plain": [
       "  0%|          | 0/1 [00:00<?, ?it/s]"
      ]
     },
     "metadata": {},
     "output_type": "display_data"
    },
    {
     "data": {
      "application/vnd.jupyter.widget-view+json": {
       "model_id": "27d49d886f9f4ce3a26af190e35d0197",
       "version_major": 2,
       "version_minor": 0
      },
      "text/plain": [
       "  0%|          | 0/1 [00:00<?, ?it/s]"
      ]
     },
     "metadata": {},
     "output_type": "display_data"
    },
    {
     "data": {
      "application/vnd.jupyter.widget-view+json": {
       "model_id": "2c7f6cf1581448d5b0df59b27dc12786",
       "version_major": 2,
       "version_minor": 0
      },
      "text/plain": [
       "  0%|          | 0/1 [00:00<?, ?it/s]"
      ]
     },
     "metadata": {},
     "output_type": "display_data"
    },
    {
     "data": {
      "application/vnd.jupyter.widget-view+json": {
       "model_id": "c5c853f99993468a9c4990492b9d4b13",
       "version_major": 2,
       "version_minor": 0
      },
      "text/plain": [
       "  0%|          | 0/1 [00:00<?, ?it/s]"
      ]
     },
     "metadata": {},
     "output_type": "display_data"
    },
    {
     "name": "stdout",
     "output_type": "stream",
     "text": [
      "Test BLUE scenes: 1\n",
      "Test GREEN scenes: 1\n",
      "Test RED scenes: 1\n",
      "Test GREEN scenes: 1\n"
     ]
    }
   ],
   "source": [
    "# test loading\n",
    "X_BLUE_test, X_BLUE_test_masks = load_dataset(base_dir=dataset_dir,part=\"test\",band=\"BLUE\")\n",
    "X_GREEN_test, X_GREEN_test_masks = load_dataset(base_dir=dataset_dir,part=\"test\",band=\"GREEN\")\n",
    "X_RED_test, X_RED_test_masks = load_dataset(base_dir=dataset_dir,part=\"test\",band=\"RED\")\n",
    "X_GREEN_test, X_GREEN_test_masks = load_dataset(base_dir=dataset_dir,part=\"test\",band=\"GREEN\")\n",
    "\n",
    "print(f\"Test BLUE scenes: {len(X_BLUE_test)}\")\n",
    "print(f\"Test GREEN scenes: {len(X_GREEN_test)}\")\n",
    "print(f\"Test RED scenes: {len(X_RED_test)}\")\n",
    "print(f\"Test GREEN scenes: {len(X_GREEN_test)}\")"
   ]
  },
  {
   "cell_type": "markdown",
   "metadata": {},
   "source": [
    "<a id=\"preprocessing\"></a>\n",
    "# 2.0 Dataset Pre-Processing"
   ]
  },
  {
   "cell_type": "markdown",
   "metadata": {},
   "source": [
    "## 2.1 Register dataset"
   ]
  },
  {
   "cell_type": "code",
   "execution_count": 52,
   "metadata": {
    "ExecuteTime": {
     "end_time": "2020-10-01T16:17:33.286005Z",
     "start_time": "2020-10-01T16:12:53.861982Z"
    },
    "scrolled": true
   },
   "outputs": [
    {
     "data": {
      "application/vnd.jupyter.widget-view+json": {
       "model_id": "35211f7421a34ae4ad4e86cb4f72bcc5",
       "version_major": 2,
       "version_minor": 0
      },
      "text/plain": [
       "  0%|          | 0/14 [00:00<?, ?it/s]"
      ]
     },
     "metadata": {},
     "output_type": "display_data"
    },
    {
     "data": {
      "application/vnd.jupyter.widget-view+json": {
       "model_id": "ef3d79512ea54e3f95867e7a73ebddfe",
       "version_major": 2,
       "version_minor": 0
      },
      "text/plain": [
       "  0%|          | 0/14 [00:00<?, ?it/s]"
      ]
     },
     "metadata": {},
     "output_type": "display_data"
    },
    {
     "data": {
      "application/vnd.jupyter.widget-view+json": {
       "model_id": "811caa7508f3434291c8437796fc0a2b",
       "version_major": 2,
       "version_minor": 0
      },
      "text/plain": [
       "  0%|          | 0/14 [00:00<?, ?it/s]"
      ]
     },
     "metadata": {},
     "output_type": "display_data"
    }
   ],
   "source": [
    "# train registration\n",
    "X_RED_train, X_RED_train_masks = register_dataset(X_RED_train, X_RED_train_masks)\n",
    "X_GREEN_train, X_GREEN_train_masks = register_dataset(X_GREEN_train, X_GREEN_train_masks)\n",
    "X_BLUE_train, X_BLUE_train_masks = register_dataset(X_BLUE_train, X_BLUE_train_masks)"
   ]
  },
  {
   "cell_type": "code",
   "execution_count": 53,
   "metadata": {
    "ExecuteTime": {
     "end_time": "2020-10-01T16:19:30.119116Z",
     "start_time": "2020-10-01T16:17:33.287328Z"
    }
   },
   "outputs": [
    {
     "data": {
      "application/vnd.jupyter.widget-view+json": {
       "model_id": "dbaab8f1addb4f8fb74ff163fc3eac72",
       "version_major": 2,
       "version_minor": 0
      },
      "text/plain": [
       "  0%|          | 0/1 [00:00<?, ?it/s]"
      ]
     },
     "metadata": {},
     "output_type": "display_data"
    },
    {
     "data": {
      "application/vnd.jupyter.widget-view+json": {
       "model_id": "eda6327697d34a9c81644f8da8d18707",
       "version_major": 2,
       "version_minor": 0
      },
      "text/plain": [
       "  0%|          | 0/1 [00:00<?, ?it/s]"
      ]
     },
     "metadata": {},
     "output_type": "display_data"
    },
    {
     "data": {
      "application/vnd.jupyter.widget-view+json": {
       "model_id": "369d352def6e4ceda2b7a1ae4abf594d",
       "version_major": 2,
       "version_minor": 0
      },
      "text/plain": [
       "  0%|          | 0/1 [00:00<?, ?it/s]"
      ]
     },
     "metadata": {},
     "output_type": "display_data"
    }
   ],
   "source": [
    "# validation registration\n",
    "X_RED_val, X_RED_val_masks = register_dataset(X_RED_val, X_RED_val_masks)\n",
    "X_GREEN_val, X_GREEN_val_masks = register_dataset(X_GREEN_val, X_GREEN_val_masks)\n",
    "X_BLUE_val, X_BLUE_val_masks = register_dataset(X_BLUE_val, X_BLUE_val_masks)"
   ]
  },
  {
   "cell_type": "code",
   "execution_count": 54,
   "metadata": {
    "ExecuteTime": {
     "end_time": "2020-10-01T16:21:07.490103Z",
     "start_time": "2020-10-01T16:19:30.120232Z"
    }
   },
   "outputs": [
    {
     "data": {
      "application/vnd.jupyter.widget-view+json": {
       "model_id": "687d8815f3cb40f28913df277f68014b",
       "version_major": 2,
       "version_minor": 0
      },
      "text/plain": [
       "  0%|          | 0/1 [00:00<?, ?it/s]"
      ]
     },
     "metadata": {},
     "output_type": "display_data"
    },
    {
     "data": {
      "application/vnd.jupyter.widget-view+json": {
       "model_id": "d7e4ee33effa4125893acbb90ae85d00",
       "version_major": 2,
       "version_minor": 0
      },
      "text/plain": [
       "  0%|          | 0/1 [00:00<?, ?it/s]"
      ]
     },
     "metadata": {},
     "output_type": "display_data"
    },
    {
     "data": {
      "application/vnd.jupyter.widget-view+json": {
       "model_id": "47abe8a510f14fd1a8c2de7a886abbf0",
       "version_major": 2,
       "version_minor": 0
      },
      "text/plain": [
       "  0%|          | 0/1 [00:00<?, ?it/s]"
      ]
     },
     "metadata": {},
     "output_type": "display_data"
    },
    {
     "data": {
      "application/vnd.jupyter.widget-view+json": {
       "model_id": "64e9dee7b44e417c87020c2449f2cc12",
       "version_major": 2,
       "version_minor": 0
      },
      "text/plain": [
       "  0%|          | 0/1 [00:00<?, ?it/s]"
      ]
     },
     "metadata": {},
     "output_type": "display_data"
    }
   ],
   "source": [
    "# test registration\n",
    "X_GREEN_test, X_GREEN_test_masks = register_dataset(X_GREEN_test, X_GREEN_test_masks)\n",
    "X_GREEN_test, X_GREEN_test_masks = register_dataset(X_GREEN_test, X_GREEN_test_masks)\n",
    "X_RED_test, X_RED_test_masks = register_dataset(X_RED_test, X_RED_test_masks)\n",
    "X_GREEN_test, X_GREEN_test_masks = register_dataset(X_GREEN_test, X_GREEN_test_masks)"
   ]
  },
  {
   "cell_type": "markdown",
   "metadata": {},
   "source": [
    "## 2.2 Select the best T LR images"
   ]
  },
  {
   "cell_type": "code",
   "execution_count": 55,
   "metadata": {
    "ExecuteTime": {
     "end_time": "2020-10-01T16:21:08.620834Z",
     "start_time": "2020-10-01T16:21:07.491008Z"
    }
   },
   "outputs": [
    {
     "data": {
      "application/vnd.jupyter.widget-view+json": {
       "model_id": "4f7032625f92499cba4d4628314df88c",
       "version_major": 2,
       "version_minor": 0
      },
      "text/plain": [
       "  0%|          | 0/14 [00:00<?, ?it/s]"
      ]
     },
     "metadata": {},
     "output_type": "display_data"
    },
    {
     "data": {
      "application/vnd.jupyter.widget-view+json": {
       "model_id": "8b699eaded8947b4ae59cdbea14874cf",
       "version_major": 2,
       "version_minor": 0
      },
      "text/plain": [
       "  0%|          | 0/14 [00:00<?, ?it/s]"
      ]
     },
     "metadata": {},
     "output_type": "display_data"
    },
    {
     "data": {
      "application/vnd.jupyter.widget-view+json": {
       "model_id": "bbd1ac7bedd147879a941891af06974f",
       "version_major": 2,
       "version_minor": 0
      },
      "text/plain": [
       "  0%|          | 0/14 [00:00<?, ?it/s]"
      ]
     },
     "metadata": {},
     "output_type": "display_data"
    },
    {
     "name": "stdout",
     "output_type": "stream",
     "text": [
      "Removing number 0\n",
      "Train RED shape: (14, 128, 128, 25)\n",
      "Train GREEN shape: (14, 128, 128, 25)\n",
      "Train BLUE shape: (13, 128, 128, 25)\n",
      "Train indexes removed RED: []\n",
      "Train indexes removed GREEN: []\n",
      "Train indexes removed BLUE: [0]\n"
     ]
    }
   ],
   "source": [
    "# select T train\n",
    "X_RED_train, remove_indexes_RED_train = select_T_images(X_RED_train, X_RED_train_masks,\n",
    "                                                                     T, thr=threshold_clean)\n",
    "X_GREEN_train, remove_indexes_GREEN_train = select_T_images(X_GREEN_train, X_GREEN_train_masks, \n",
    "                                                                     T, thr=threshold_clean)\n",
    "X_BLUE_train, remove_indexes_BLUE_train = select_T_images(X_BLUE_train, X_BLUE_train_masks, \n",
    "                                                                     T, thr=threshold_clean)\n",
    "\n",
    "print(f\"Train RED shape: {X_RED_train.shape}\")\n",
    "print(f\"Train GREEN shape: {X_GREEN_train.shape}\")\n",
    "print(f\"Train BLUE shape: {X_BLUE_train.shape}\")\n",
    "print(f\"Train indexes removed RED: {remove_indexes_RED_train}\")\n",
    "print(f\"Train indexes removed GREEN: {remove_indexes_GREEN_train}\")\n",
    "print(f\"Train indexes removed BLUE: {remove_indexes_BLUE_train}\")"
   ]
  },
  {
   "cell_type": "code",
   "execution_count": 56,
   "metadata": {
    "ExecuteTime": {
     "end_time": "2020-10-01T16:21:08.673228Z",
     "start_time": "2020-10-01T16:21:08.621693Z"
    },
    "scrolled": true
   },
   "outputs": [
    {
     "name": "stdout",
     "output_type": "stream",
     "text": [
      "Train RED y shape: (14, 640, 640, 1)\n",
      "Train GREEN y shape: (14, 640, 640, 1)\n",
      "Train BLUE y shape: (13, 640, 640, 1)\n"
     ]
    }
   ],
   "source": [
    "# delete awful scenes training\n",
    "y_RED_train = np.delete(y_RED_train, remove_indexes_RED_train, axis=0)\n",
    "y_RED_train_masks = np.delete(y_RED_train_masks, remove_indexes_RED_train, axis=0)\n",
    "y_GREEN_train = np.delete(y_GREEN_train, remove_indexes_GREEN_train, axis=0)\n",
    "y_GREEN_train_masks = np.delete(y_GREEN_train_masks, remove_indexes_GREEN_train, axis=0)\n",
    "y_BLUE_train = np.delete(y_BLUE_train, remove_indexes_BLUE_train, axis=0)\n",
    "y_BLUE_train_masks = np.delete(y_BLUE_train_masks, remove_indexes_BLUE_train, axis=0)\n",
    "\n",
    "print(f\"Train RED y shape: {y_RED_train.shape}\")\n",
    "print(f\"Train GREEN y shape: {y_GREEN_train.shape}\")\n",
    "print(f\"Train BLUE y shape: {y_BLUE_train.shape}\")"
   ]
  },
  {
   "cell_type": "code",
   "execution_count": 57,
   "metadata": {},
   "outputs": [
    {
     "name": "stdout",
     "output_type": "stream",
     "text": [
      "Train masks RED y shape: (14, 640, 640, 3, 1)\n",
      "Train masks GREEN y shape: (14, 640, 640, 3, 1)\n",
      "Train masks BLUE y shape: (13, 640, 640, 3, 1)\n"
     ]
    }
   ],
   "source": [
    "print(f\"Train masks RED y shape: {y_RED_train_masks.shape}\")\n",
    "print(f\"Train masks GREEN y shape: {y_GREEN_train_masks.shape}\")\n",
    "print(f\"Train masks BLUE y shape: {y_BLUE_train_masks.shape}\")"
   ]
  },
  {
   "cell_type": "code",
   "execution_count": 58,
   "metadata": {
    "ExecuteTime": {
     "end_time": "2020-10-01T16:21:09.107280Z",
     "start_time": "2020-10-01T16:21:08.674150Z"
    }
   },
   "outputs": [
    {
     "data": {
      "application/vnd.jupyter.widget-view+json": {
       "model_id": "f026c648e9c34d9d9ea4c43f736671b6",
       "version_major": 2,
       "version_minor": 0
      },
      "text/plain": [
       "  0%|          | 0/1 [00:00<?, ?it/s]"
      ]
     },
     "metadata": {},
     "output_type": "display_data"
    },
    {
     "data": {
      "application/vnd.jupyter.widget-view+json": {
       "model_id": "73a89457d9584a0c855f9091f5d99d3f",
       "version_major": 2,
       "version_minor": 0
      },
      "text/plain": [
       "  0%|          | 0/1 [00:00<?, ?it/s]"
      ]
     },
     "metadata": {},
     "output_type": "display_data"
    },
    {
     "data": {
      "application/vnd.jupyter.widget-view+json": {
       "model_id": "389092fb39774e34848ca7825b6d9144",
       "version_major": 2,
       "version_minor": 0
      },
      "text/plain": [
       "  0%|          | 0/1 [00:00<?, ?it/s]"
      ]
     },
     "metadata": {},
     "output_type": "display_data"
    },
    {
     "name": "stdout",
     "output_type": "stream",
     "text": [
      "Val RED shape: (14, 128, 128, 25)\n",
      "Val GREEN shape: (14, 128, 128, 25)\n",
      "Val BLUE shape: (13, 128, 128, 25)\n",
      "Val indexes removed RED: []\n",
      "Val indexes removed GREEN: []\n",
      "Val indexes removed BLUE: []\n"
     ]
    }
   ],
   "source": [
    "# select T validation\n",
    "X_RED_val, remove_indexes_RED_val = select_T_images(X_RED_val, X_RED_val_masks, \n",
    "                                                                 T, thr=threshold_clean)\n",
    "X_GREEN_val, remove_indexes_GREEN_val = select_T_images(X_GREEN_val, X_GREEN_val_masks,\n",
    "                                                                 T, thr=threshold_clean)\n",
    "X_BLUE_val, remove_indexes_BLUE_val = select_T_images(X_BLUE_val, X_BLUE_val_masks,\n",
    "                                                                 T, thr=threshold_clean)\n",
    "\n",
    "print(f\"Val RED shape: {X_RED_train.shape}\")\n",
    "print(f\"Val GREEN shape: {X_GREEN_train.shape}\")\n",
    "print(f\"Val BLUE shape: {X_BLUE_train.shape}\")\n",
    "print(f\"Val indexes removed RED: {remove_indexes_RED_val}\")\n",
    "print(f\"Val indexes removed GREEN: {remove_indexes_GREEN_val}\")\n",
    "print(f\"Val indexes removed BLUE: {remove_indexes_BLUE_val}\")"
   ]
  },
  {
   "cell_type": "code",
   "execution_count": 59,
   "metadata": {
    "ExecuteTime": {
     "end_time": "2020-10-01T16:21:09.129902Z",
     "start_time": "2020-10-01T16:21:09.108135Z"
    }
   },
   "outputs": [
    {
     "name": "stdout",
     "output_type": "stream",
     "text": [
      "Val RED y shape: (1, 640, 640, 1)\n",
      "Val GREEN y shape: (1, 640, 640, 1)\n",
      "Val BLUE y shape: (1, 640, 640, 1)\n"
     ]
    }
   ],
   "source": [
    "# delete awful scenes validation\n",
    "y_RED_val = np.delete(y_RED_val, remove_indexes_RED_val, axis=0)\n",
    "y_RED_val_masks = np.delete(y_RED_val_masks, remove_indexes_RED_val, axis=0)\n",
    "y_GREEN_val = np.delete(y_GREEN_val, remove_indexes_GREEN_val, axis=0)\n",
    "y_GREEN_val_masks = np.delete(y_GREEN_val_masks, remove_indexes_GREEN_val, axis=0)\n",
    "y_BLUE_val = np.delete(y_BLUE_val, remove_indexes_BLUE_val, axis=0)\n",
    "y_BLUE_val_masks = np.delete(y_BLUE_val_masks, remove_indexes_BLUE_val, axis=0)\n",
    "\n",
    "print(f\"Val RED y shape: {y_RED_val.shape}\")\n",
    "print(f\"Val GREEN y shape: {y_GREEN_val.shape}\")\n",
    "print(f\"Val BLUE y shape: {y_BLUE_val.shape}\")"
   ]
  },
  {
   "cell_type": "code",
   "execution_count": 60,
   "metadata": {
    "ExecuteTime": {
     "end_time": "2020-10-01T16:21:09.491497Z",
     "start_time": "2020-10-01T16:21:09.130802Z"
    }
   },
   "outputs": [
    {
     "data": {
      "application/vnd.jupyter.widget-view+json": {
       "model_id": "32842e28e25d46a9ac205f1c171fc5eb",
       "version_major": 2,
       "version_minor": 0
      },
      "text/plain": [
       "  0%|          | 0/1 [00:00<?, ?it/s]"
      ]
     },
     "metadata": {},
     "output_type": "display_data"
    },
    {
     "data": {
      "application/vnd.jupyter.widget-view+json": {
       "model_id": "bb64250ba64d4e2ba923c649ab55508f",
       "version_major": 2,
       "version_minor": 0
      },
      "text/plain": [
       "  0%|          | 0/1 [00:00<?, ?it/s]"
      ]
     },
     "metadata": {},
     "output_type": "display_data"
    },
    {
     "data": {
      "application/vnd.jupyter.widget-view+json": {
       "model_id": "4dccff7f03f6496fafb9681b8c27e744",
       "version_major": 2,
       "version_minor": 0
      },
      "text/plain": [
       "  0%|          | 0/1 [00:00<?, ?it/s]"
      ]
     },
     "metadata": {},
     "output_type": "display_data"
    },
    {
     "name": "stdout",
     "output_type": "stream",
     "text": [
      "Test RED shape: (1, 128, 128, 25)\n",
      "Test GREEN shape: (1, 128, 128, 25)\n",
      "Test BLUE shape: (1, 128, 128, 25)\n"
     ]
    }
   ],
   "source": [
    "# select T test\n",
    "X_RED_test, _ = select_T_images(X_RED_test, X_RED_test_masks,\n",
    "                                                  T, thr=threshold_clean, remove_bad=False) # we can't remove scenes from testing dataset\n",
    "X_GREEN_test, _ = select_T_images(X_GREEN_test, X_GREEN_test_masks,\n",
    "                                                  T, thr=threshold_clean, remove_bad=False) # we can only pick the best T\n",
    "X_BLUE_test, _ = select_T_images(X_BLUE_test, X_BLUE_test_masks,\n",
    "                                                  T, thr=threshold_clean, remove_bad=False) # we can only pick the best T\n",
    "\n",
    "print(f\"Test RED shape: {X_RED_test.shape}\")\n",
    "print(f\"Test GREEN shape: {X_GREEN_test.shape}\")\n",
    "print(f\"Test BLUE shape: {X_BLUE_test.shape}\")"
   ]
  },
  {
   "cell_type": "markdown",
   "metadata": {},
   "source": [
    "## 2.3 Pre-augment dataset (temporal permutation)"
   ]
  },
  {
   "cell_type": "code",
   "execution_count": 61,
   "metadata": {
    "ExecuteTime": {
     "end_time": "2020-10-01T16:21:09.500274Z",
     "start_time": "2020-10-01T16:21:09.492307Z"
    }
   },
   "outputs": [],
   "source": [
    "if train_full:\n",
    "    X_RED_train = np.concatenate((X_RED_train, X_RED_val))\n",
    "    X_GREEN_train = np.concatenate((X_GREEN_train, X_GREEN_val))\n",
    "    X_BLUE_train = np.concatenate((X_BLUE_train, X_BLUE_val))\n",
    "    \n",
    "    y_RED_train = np.concatenate((y_RED_train, y_RED_val))\n",
    "    y_GREEN_train = np.concatenate((y_GREEN_train, y_GREEN_val))\n",
    "    y_BLUE_train = np.concatenate((y_BLUE_train, y_BLUE_val))\n",
    "    \n",
    "    y_RED_train_masks = np.concatenate((y_RED_train_masks, y_RED_val_masks))\n",
    "    y_GREEN_train_masks = np.concatenate((y_GREEN_train_masks, y_GREEN_val_masks))\n",
    "    y_BLUE_train_masks = np.concatenate((y_BLUE_train_masks, y_BLUE_val_masks))"
   ]
  },
  {
   "cell_type": "code",
   "execution_count": 62,
   "metadata": {
    "ExecuteTime": {
     "end_time": "2020-10-01T16:21:13.285971Z",
     "start_time": "2020-10-01T16:21:09.501128Z"
    }
   },
   "outputs": [
    {
     "data": {
      "application/vnd.jupyter.widget-view+json": {
       "model_id": "05bc7c00433b4dd684a57342c7bd8bfc",
       "version_major": 2,
       "version_minor": 0
      },
      "text/plain": [
       "  0%|          | 0/14 [00:00<?, ?it/s]"
      ]
     },
     "metadata": {},
     "output_type": "display_data"
    },
    {
     "data": {
      "application/vnd.jupyter.widget-view+json": {
       "model_id": "7e4cf270e0b94e3884bf1ae18bb56923",
       "version_major": 2,
       "version_minor": 0
      },
      "text/plain": [
       "  0%|          | 0/14 [00:00<?, ?it/s]"
      ]
     },
     "metadata": {},
     "output_type": "display_data"
    },
    {
     "data": {
      "application/vnd.jupyter.widget-view+json": {
       "model_id": "14533052f01742d98859c733bd284935",
       "version_major": 2,
       "version_minor": 0
      },
      "text/plain": [
       "  0%|          | 0/13 [00:00<?, ?it/s]"
      ]
     },
     "metadata": {},
     "output_type": "display_data"
    },
    {
     "name": "stdout",
     "output_type": "stream",
     "text": [
      "Train RED X shape: (98, 128, 128, 25) | Train RED y shape: (98, 640, 640, 1)\n",
      "Train GREEN X shape: (98, 128, 128, 25) | Train GREEN y shape: (98, 640, 640, 1)\n",
      "Train BLUE X shape: (91, 128, 128, 25) | Train BLUE y shape: (91, 640, 640, 1)\n"
     ]
    }
   ],
   "source": [
    "#training dataset only\n",
    "X_RED_train, y_RED_train, y_RED_train_masks = augment_dataset(X_RED_train, y_RED_train,\n",
    "                                                              y_RED_train_masks, n_augment=n_augment)\n",
    "X_GREEN_train, y_GREEN_train, y_GREEN_train_masks = augment_dataset(X_GREEN_train, y_GREEN_train,\n",
    "                                                              y_GREEN_train_masks, n_augment=n_augment)\n",
    "X_BLUE_train, y_BLUE_train, y_BLUE_train_masks = augment_dataset(X_BLUE_train, y_BLUE_train,\n",
    "                                                              y_BLUE_train_masks, n_augment=n_augment)\n",
    "\n",
    "print(f\"Train RED X shape: {X_RED_train.shape} | Train RED y shape: {y_RED_train.shape}\")\n",
    "print(f\"Train GREEN X shape: {X_GREEN_train.shape} | Train GREEN y shape: {y_GREEN_train.shape}\")\n",
    "print(f\"Train BLUE X shape: {X_BLUE_train.shape} | Train BLUE y shape: {y_BLUE_train.shape}\")"
   ]
  },
  {
   "cell_type": "markdown",
   "metadata": {},
   "source": [
    "<a id=\"visualize\"></a>\n",
    "# 3.0 Visualize the Pre-Processed Datataset"
   ]
  },
  {
   "cell_type": "code",
   "execution_count": 63,
   "metadata": {
    "ExecuteTime": {
     "end_time": "2020-10-01T16:21:13.294008Z",
     "start_time": "2020-10-01T16:21:13.286858Z"
    }
   },
   "outputs": [],
   "source": [
    "#-------------\n",
    "# Settings\n",
    "#-------------\n",
    "index = 10\n",
    "band = 'GREEN'"
   ]
  },
  {
   "cell_type": "code",
   "execution_count": 64,
   "metadata": {
    "ExecuteTime": {
     "end_time": "2020-10-01T16:21:13.741233Z",
     "start_time": "2020-10-01T16:21:13.294890Z"
    }
   },
   "outputs": [
    {
     "data": {
      "image/png": "[encoded data removed]",
      "text/plain": [
       "<Figure size 2000x500 with 50 Axes>"
      ]
     },
     "metadata": {},
     "output_type": "display_data"
    }
   ],
   "source": [
    "fig, ax = plt.subplots(2, T, figsize=(20,5))\n",
    "\n",
    "if band == \"GREEN\":\n",
    "    for i in range(T):\n",
    "        ax[0,i].imshow(X_GREEN_train[index][...,i], cmap = 'gray')\n",
    "        ax[0,i].axis('off')\n",
    "        ax[1,i].imshow(X_GREEN_train_masks[index][...,i], cmap = 'gray')\n",
    "        ax[1,i].axis('off')\n",
    "else:\n",
    "    for i in range(T):\n",
    "        ax[0,i].imshow(X_RED_train[index][...,i], cmap = 'gray')\n",
    "        ax[0,i].axis('off')\n",
    "        ax[1,i].imshow(X_RED_train_masks[index][...,i], cmap = 'gray')\n",
    "        ax[1,i].axis('off')"
   ]
  },
  {
   "cell_type": "markdown",
   "metadata": {},
   "source": [
    "<a id=\"save\"></a>\n",
    "# 4.0 Save dataset"
   ]
  },
  {
   "cell_type": "code",
   "execution_count": 65,
   "metadata": {
    "ExecuteTime": {
     "end_time": "2020-10-01T16:31:11.107260Z",
     "start_time": "2020-10-01T16:31:11.092658Z"
    }
   },
   "outputs": [],
   "source": [
    "if not os.path.isdir(dataset_output_dir):\n",
    "    os.mkdir(dataset_output_dir)"
   ]
  },
  {
   "cell_type": "code",
   "execution_count": 66,
   "metadata": {
    "ExecuteTime": {
     "end_time": "2020-10-01T16:31:33.137574Z",
     "start_time": "2020-10-01T16:31:12.508857Z"
    }
   },
   "outputs": [],
   "source": [
    "# save training\n",
    "np.save(os.path.join(dataset_output_dir, 'X_RED_train.npy'), X_RED_train)\n",
    "np.save(os.path.join(dataset_output_dir, 'X_GREEN_train.npy'), X_GREEN_train)\n",
    "np.save(os.path.join(dataset_output_dir, 'X_BLUE_train.npy'), X_BLUE_train)\n",
    "\n",
    "np.save(os.path.join(dataset_output_dir, 'y_RED_train.npy'), y_RED_train)\n",
    "np.save(os.path.join(dataset_output_dir, 'y_GREEN_train.npy'), y_GREEN_train)\n",
    "np.save(os.path.join(dataset_output_dir, 'y_BLUE_train.npy'), y_BLUE_train)\n",
    "\n",
    "np.save(os.path.join(dataset_output_dir, 'y_RED_train_masks.npy'), y_RED_train_masks)\n",
    "np.save(os.path.join(dataset_output_dir, 'y_GREEN_train_masks.npy'), y_GREEN_train_masks)\n",
    "np.save(os.path.join(dataset_output_dir, 'y_BLUE_train_masks.npy'), y_BLUE_train_masks)"
   ]
  },
  {
   "cell_type": "code",
   "execution_count": 67,
   "metadata": {
    "ExecuteTime": {
     "end_time": "2020-10-01T16:31:34.766852Z",
     "start_time": "2020-10-01T16:31:34.528430Z"
    }
   },
   "outputs": [],
   "source": [
    "# save validation\n",
    "if not train_full:\n",
    "    np.save(os.path.join(dataset_output_dir, 'X_RED_val.npy'), X_RED_val)\n",
    "    np.save(os.path.join(dataset_output_dir, 'X_GREEN_val.npy'), X_GREEN_val)\n",
    "    np.save(os.path.join(dataset_output_dir, 'X_BLUE_val.npy'), X_BLUE_val)\n",
    "\n",
    "    np.save(os.path.join(dataset_output_dir, 'y_RED_val.npy'), y_RED_val)\n",
    "    np.save(os.path.join(dataset_output_dir, 'y_GREEN_val.npy'), y_GREEN_val)\n",
    "    np.save(os.path.join(dataset_output_dir, 'y_BLUE_val.npy'), y_BLUE_val)\n",
    "\n",
    "    np.save(os.path.join(dataset_output_dir, 'y_RED_val_masks.npy'), y_RED_val_masks)\n",
    "    np.save(os.path.join(dataset_output_dir, 'y_GREEN_val_masks.npy'), y_GREEN_val_masks)\n",
    "    np.save(os.path.join(dataset_output_dir, 'y_BLUE_val_masks.npy'), y_BLUE_val_masks)"
   ]
  },
  {
   "cell_type": "code",
   "execution_count": 68,
   "metadata": {
    "ExecuteTime": {
     "end_time": "2020-10-01T16:31:36.249034Z",
     "start_time": "2020-10-01T16:31:36.167724Z"
    }
   },
   "outputs": [],
   "source": [
    "# save test\n",
    "np.save(os.path.join(dataset_output_dir, 'X_RED_test.npy'), X_RED_test)\n",
    "np.save(os.path.join(dataset_output_dir, 'X_GREEN_test.npy'), X_GREEN_test)\n",
    "np.save(os.path.join(dataset_output_dir, 'X_BLUE_test.npy'), X_BLUE_test)"
   ]
  },
  {
   "cell_type": "code",
   "execution_count": null,
   "metadata": {},
   "outputs": [],
   "source": []
  }
 ],
 "metadata": {
  "kernelspec": {
   "display_name": "Python 3 (ipykernel)",
   "language": "python",
   "name": "python3"
  },
  "language_info": {
   "codemirror_mode": {
    "name": "ipython",
    "version": 3
   },
   "file_extension": ".py",
   "mimetype": "text/x-python",
   "name": "python",
   "nbconvert_exporter": "python",
   "pygments_lexer": "ipython3",
   "version": "3.11.5"
  },
  "toc": {
   "base_numbering": 1,
   "nav_menu": {},
   "number_sections": false,
   "sideBar": true,
   "skip_h1_title": false,
   "title_cell": "Table of Contents",
   "title_sidebar": "Contents",
   "toc_cell": false,
   "toc_position": {},
   "toc_section_display": true,
   "toc_window_display": true
  },
  "varInspector": {
   "cols": {
    "lenName": 16,
    "lenType": 16,
    "lenVar": 40
   },
   "kernels_config": {
    "python": {
     "delete_cmd_postfix": "",
     "delete_cmd_prefix": "del ",
     "library": "var_list.py",
     "varRefreshCmd": "print(var_dic_list())"
    },
    "r": {
     "delete_cmd_postfix": ") ",
     "delete_cmd_prefix": "rm(",
     "library": "var_list.r",
     "varRefreshCmd": "cat(var_dic_list()) "
    }
   },
   "types_to_exclude": [
    "module",
    "function",
    "builtin_function_or_method",
    "instance",
    "_Feature"
   ],
   "window_display": false
  }
 },
 "nbformat": 4,
 "nbformat_minor": 4
}
